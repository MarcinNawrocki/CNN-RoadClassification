{
 "cells": [
  {
   "cell_type": "code",
   "execution_count": 105,
   "metadata": {},
   "outputs": [],
   "source": [
    "import os\n",
    "import pandas as pd\n",
    "import numpy as np\n",
    "import seaborn as sns\n",
    "import matplotlib.pyplot as plt\n",
    "from matplotlib.image import imread\n",
    "import tensorflow as tf\n",
    "%matplotlib inline"
   ]
  },
  {
   "cell_type": "code",
   "execution_count": 106,
   "metadata": {},
   "outputs": [],
   "source": [
    "my_data_dir = 'C:\\\\Users\\\\Marcin\\\\Desktop\\\\Python\\\\Studia\\\\RoadClassification\\\\baza'"
   ]
  },
  {
   "cell_type": "code",
   "execution_count": 107,
   "metadata": {},
   "outputs": [
    {
     "data": {
      "text/plain": [
       "['train', 'val']"
      ]
     },
     "execution_count": 107,
     "metadata": {},
     "output_type": "execute_result"
    }
   ],
   "source": [
    "os.listdir(my_data_dir)"
   ]
  },
  {
   "cell_type": "code",
   "execution_count": 108,
   "metadata": {},
   "outputs": [],
   "source": [
    "val_path = my_data_dir+'\\\\val\\\\'\n",
    "train_path = my_data_dir+'\\\\train\\\\'"
   ]
  },
  {
   "cell_type": "code",
   "execution_count": 109,
   "metadata": {},
   "outputs": [
    {
     "data": {
      "text/plain": [
       "['Asfalt', 'Kostka', 'Polna_v', 'Utwardzona']"
      ]
     },
     "execution_count": 109,
     "metadata": {},
     "output_type": "execute_result"
    }
   ],
   "source": [
    "os.listdir(val_path)"
   ]
  },
  {
   "cell_type": "code",
   "execution_count": 110,
   "metadata": {},
   "outputs": [
    {
     "data": {
      "text/plain": [
       "['Asfalt', 'Kostka', 'Polna', 'Utwardzona']"
      ]
     },
     "execution_count": 110,
     "metadata": {},
     "output_type": "execute_result"
    }
   ],
   "source": [
    "os.listdir(train_path)"
   ]
  },
  {
   "cell_type": "code",
   "execution_count": 111,
   "metadata": {},
   "outputs": [],
   "source": [
    "from tensorflow.keras.preprocessing.image import ImageDataGenerator"
   ]
  },
  {
   "cell_type": "code",
   "execution_count": 112,
   "metadata": {},
   "outputs": [],
   "source": [
    "image_gen = ImageDataGenerator(rescale=1/255, # Rescale the image by normalzing it\n",
    "                              )"
   ]
  },
  {
   "cell_type": "code",
   "execution_count": null,
   "metadata": {},
   "outputs": [],
   "source": []
  },
  {
   "cell_type": "code",
   "execution_count": 113,
   "metadata": {},
   "outputs": [
    {
     "name": "stdout",
     "output_type": "stream",
     "text": [
      "Found 627 images belonging to 4 classes.\n"
     ]
    },
    {
     "data": {
      "text/plain": [
       "<keras_preprocessing.image.directory_iterator.DirectoryIterator at 0x27e0e5941c8>"
      ]
     },
     "execution_count": 113,
     "metadata": {},
     "output_type": "execute_result"
    }
   ],
   "source": [
    "image_gen.flow_from_directory(train_path)"
   ]
  },
  {
   "cell_type": "code",
   "execution_count": 114,
   "metadata": {},
   "outputs": [
    {
     "name": "stdout",
     "output_type": "stream",
     "text": [
      "Found 210 images belonging to 4 classes.\n"
     ]
    },
    {
     "data": {
      "text/plain": [
       "<keras_preprocessing.image.directory_iterator.DirectoryIterator at 0x27e0e5f8cc8>"
      ]
     },
     "execution_count": 114,
     "metadata": {},
     "output_type": "execute_result"
    }
   ],
   "source": [
    "image_gen.flow_from_directory(val_path)"
   ]
  },
  {
   "cell_type": "code",
   "execution_count": 115,
   "metadata": {},
   "outputs": [],
   "source": [
    "image_shape = (220,220,3)"
   ]
  },
  {
   "cell_type": "code",
   "execution_count": null,
   "metadata": {},
   "outputs": [],
   "source": []
  },
  {
   "cell_type": "code",
   "execution_count": 116,
   "metadata": {},
   "outputs": [
    {
     "name": "stdout",
     "output_type": "stream",
     "text": [
      "Found 627 images belonging to 4 classes.\n"
     ]
    }
   ],
   "source": [
    "train_image_gen = image_gen.flow_from_directory(train_path,\n",
    "                                               target_size=image_shape[:2],\n",
    "                                                color_mode='rgb',\n",
    "                                               class_mode='categorical')"
   ]
  },
  {
   "cell_type": "code",
   "execution_count": 117,
   "metadata": {},
   "outputs": [
    {
     "name": "stdout",
     "output_type": "stream",
     "text": [
      "Found 210 images belonging to 4 classes.\n"
     ]
    }
   ],
   "source": [
    "val_image_gen = image_gen.flow_from_directory(val_path,\n",
    "                                               target_size=image_shape[:2],\n",
    "                                                color_mode='rgb',\n",
    "                                               class_mode='categorical',\n",
    "                                             shuffle = False)"
   ]
  },
  {
   "cell_type": "code",
   "execution_count": 118,
   "metadata": {},
   "outputs": [
    {
     "data": {
      "text/plain": [
       "array([0, 0, 0, 0, 0, 0, 0, 0, 0, 0, 0, 0, 0, 0, 0, 0, 0, 0, 0, 0, 0, 0,\n",
       "       0, 0, 0, 0, 0, 0, 0, 0, 0, 0, 0, 0, 0, 0, 0, 0, 0, 0, 0, 0, 0, 0,\n",
       "       0, 0, 0, 0, 0, 0, 0, 0, 0, 0, 0, 0, 0, 0, 0, 0, 0, 0, 0, 0, 0, 0,\n",
       "       0, 0, 0, 0, 0, 0, 0, 0, 0, 0, 0, 0, 0, 0, 0, 0, 0, 0, 0, 0, 0, 0,\n",
       "       0, 0, 0, 0, 0, 0, 0, 0, 0, 0, 0, 0, 0, 0, 0, 0, 0, 0, 0, 0, 0, 0,\n",
       "       0, 0, 0, 0, 0, 0, 0, 0, 0, 0, 0, 0, 0, 0, 0, 0, 0, 0, 0, 0, 0, 0,\n",
       "       0, 0, 0, 0, 0, 0, 0, 0, 0, 0, 0, 0, 0, 0, 0, 0, 0, 0, 0, 0, 0, 0,\n",
       "       0, 0, 0, 1, 1, 1, 1, 1, 1, 1, 1, 1, 1, 1, 1, 1, 1, 1, 1, 1, 1, 1,\n",
       "       1, 1, 1, 1, 1, 1, 1, 1, 1, 1, 1, 1, 1, 1, 1, 1, 1, 1, 1, 1, 1, 1,\n",
       "       1, 1, 1, 1, 1, 1, 1, 1, 1, 1, 1, 1, 1, 1, 1, 1, 1, 1, 1, 1, 1, 1,\n",
       "       1, 1, 1, 1, 1, 1, 1, 1, 1, 1, 1, 1, 1, 1, 1, 1, 1, 1, 1, 1, 1, 1,\n",
       "       1, 1, 1, 1, 1, 1, 1, 1, 1, 1, 1, 1, 1, 1, 1, 1, 1, 1, 1, 1, 1, 1,\n",
       "       1, 1, 1, 1, 1, 1, 1, 1, 1, 1, 1, 1, 1, 1, 1, 1, 1, 1, 1, 1, 1, 1,\n",
       "       1, 1, 1, 1, 1, 1, 1, 1, 1, 1, 1, 1, 1, 1, 1, 1, 1, 1, 1, 1, 1, 1,\n",
       "       1, 1, 2, 2, 2, 2, 2, 2, 2, 2, 2, 2, 2, 2, 2, 2, 2, 2, 2, 2, 2, 2,\n",
       "       2, 2, 2, 2, 2, 2, 2, 2, 2, 2, 2, 2, 2, 2, 2, 2, 2, 2, 2, 2, 2, 2,\n",
       "       2, 2, 2, 2, 2, 2, 2, 2, 2, 2, 2, 2, 2, 2, 2, 2, 2, 2, 2, 2, 2, 2,\n",
       "       2, 2, 2, 2, 2, 2, 2, 2, 2, 2, 2, 2, 2, 2, 2, 2, 2, 2, 2, 2, 2, 2,\n",
       "       2, 2, 2, 2, 2, 2, 2, 2, 2, 2, 2, 2, 2, 2, 2, 2, 2, 2, 2, 2, 2, 2,\n",
       "       2, 2, 2, 2, 2, 2, 2, 2, 2, 2, 2, 2, 2, 2, 2, 2, 2, 2, 2, 2, 2, 2,\n",
       "       2, 2, 2, 2, 2, 2, 2, 2, 2, 2, 2, 2, 2, 2, 2, 2, 2, 2, 2, 2, 3, 3,\n",
       "       3, 3, 3, 3, 3, 3, 3, 3, 3, 3, 3, 3, 3, 3, 3, 3, 3, 3, 3, 3, 3, 3,\n",
       "       3, 3, 3, 3, 3, 3, 3, 3, 3, 3, 3, 3, 3, 3, 3, 3, 3, 3, 3, 3, 3, 3,\n",
       "       3, 3, 3, 3, 3, 3, 3, 3, 3, 3, 3, 3, 3, 3, 3, 3, 3, 3, 3, 3, 3, 3,\n",
       "       3, 3, 3, 3, 3, 3, 3, 3, 3, 3, 3, 3, 3, 3, 3, 3, 3, 3, 3, 3, 3, 3,\n",
       "       3, 3, 3, 3, 3, 3, 3, 3, 3, 3, 3, 3, 3, 3, 3, 3, 3, 3, 3, 3, 3, 3,\n",
       "       3, 3, 3, 3, 3, 3, 3, 3, 3, 3, 3, 3, 3, 3, 3, 3, 3, 3, 3, 3, 3, 3,\n",
       "       3, 3, 3, 3, 3, 3, 3, 3, 3, 3, 3, 3, 3, 3, 3, 3, 3, 3, 3, 3, 3, 3,\n",
       "       3, 3, 3, 3, 3, 3, 3, 3, 3, 3, 3])"
      ]
     },
     "execution_count": 118,
     "metadata": {},
     "output_type": "execute_result"
    }
   ],
   "source": [
    "train_image_gen.labels"
   ]
  },
  {
   "cell_type": "code",
   "execution_count": 119,
   "metadata": {},
   "outputs": [],
   "source": [
    "from tensorflow.keras.models import Sequential\n",
    "from tensorflow.keras.layers import Activation, Dropout, Flatten, Dense, Conv2D, MaxPooling2D"
   ]
  },
  {
   "cell_type": "code",
   "execution_count": 133,
   "metadata": {},
   "outputs": [],
   "source": [
    "#with tf.device('/GPU:0'):\n",
    "#gpu_options = tf.GPUOptions(allow_growth=True)\n",
    "#session = tf.InteractiveSession(config=tf.ConfigProto(gpu_options=gpu_options))\n",
    "\n",
    "model = Sequential()\n",
    "\n",
    "model.add(Conv2D(filters=32, kernel_size=(5,5),input_shape=image_shape, activation='relu', strides=(2,2)))\n",
    "\n",
    "\n",
    "model.add(Conv2D(filters=32, kernel_size=(3,3), activation='relu'))\n",
    "#model.add(MaxPooling2D(pool_size=(3, 3)))\n",
    "model.add(Conv2D(filters=32, kernel_size=(3,3), activation='relu'))\n",
    "#model.add(MaxPooling2D(pool_size=(3, 3)))\n",
    "model.add(Conv2D(filters=32, kernel_size=(3,3), activation='relu'))\n",
    "model.add(MaxPooling2D(pool_size=(3, 3)))\n",
    "\n",
    "model.add(Conv2D(filters=64, kernel_size=(3,3), activation='relu'))\n",
    "#model.add(MaxPooling2D(pool_size=(3, 3)))\n",
    "model.add(Conv2D(filters=64, kernel_size=(3,3), activation='relu'))\n",
    "#model.add(MaxPooling2D(pool_size=(3, 3)))\n",
    "model.add(Conv2D(filters=64, kernel_size=(3,3), activation='relu'))\n",
    "model.add(MaxPooling2D(pool_size=(3, 3)))\n",
    "\n",
    "model.add(Conv2D(filters=128, kernel_size=(3,3), activation='relu'))\n",
    "#model.add(MaxPooling2D(pool_size=(3, 3)))\n",
    "model.add(Flatten())\n",
    "\n",
    "model.add(Dense(384, activation='relu'))\n",
    "\n",
    "#Final layer\n",
    "model.add(Dense(4, activation='softmax'))\n",
    "\n",
    "model.compile(loss='categorical_crossentropy',\n",
    "              optimizer='adam',\n",
    "              metrics=['accuracy'])"
   ]
  },
  {
   "cell_type": "code",
   "execution_count": 134,
   "metadata": {},
   "outputs": [
    {
     "name": "stdout",
     "output_type": "stream",
     "text": [
      "Model: \"sequential_8\"\n",
      "_________________________________________________________________\n",
      "Layer (type)                 Output Shape              Param #   \n",
      "=================================================================\n",
      "conv2d_71 (Conv2D)           (None, 107, 107, 32)      4736      \n",
      "_________________________________________________________________\n",
      "conv2d_72 (Conv2D)           (None, 105, 105, 32)      9248      \n",
      "_________________________________________________________________\n",
      "conv2d_73 (Conv2D)           (None, 103, 103, 32)      9248      \n",
      "_________________________________________________________________\n",
      "conv2d_74 (Conv2D)           (None, 101, 101, 32)      9248      \n",
      "_________________________________________________________________\n",
      "max_pooling2d_16 (MaxPooling (None, 33, 33, 32)        0         \n",
      "_________________________________________________________________\n",
      "conv2d_75 (Conv2D)           (None, 31, 31, 64)        18496     \n",
      "_________________________________________________________________\n",
      "conv2d_76 (Conv2D)           (None, 29, 29, 64)        36928     \n",
      "_________________________________________________________________\n",
      "conv2d_77 (Conv2D)           (None, 27, 27, 64)        36928     \n",
      "_________________________________________________________________\n",
      "max_pooling2d_17 (MaxPooling (None, 9, 9, 64)          0         \n",
      "_________________________________________________________________\n",
      "conv2d_78 (Conv2D)           (None, 7, 7, 128)         73856     \n",
      "_________________________________________________________________\n",
      "flatten_7 (Flatten)          (None, 6272)              0         \n",
      "_________________________________________________________________\n",
      "dense_15 (Dense)             (None, 4096)              25694208  \n",
      "_________________________________________________________________\n",
      "dropout_2 (Dropout)          (None, 4096)              0         \n",
      "_________________________________________________________________\n",
      "dense_16 (Dense)             (None, 4096)              16781312  \n",
      "_________________________________________________________________\n",
      "dropout_3 (Dropout)          (None, 4096)              0         \n",
      "_________________________________________________________________\n",
      "dense_17 (Dense)             (None, 4)                 16388     \n",
      "=================================================================\n",
      "Total params: 42,690,596\n",
      "Trainable params: 42,690,596\n",
      "Non-trainable params: 0\n",
      "_________________________________________________________________\n"
     ]
    }
   ],
   "source": [
    "model.summary()"
   ]
  },
  {
   "cell_type": "code",
   "execution_count": 135,
   "metadata": {},
   "outputs": [
    {
     "name": "stdout",
     "output_type": "stream",
     "text": [
      "Num GPUs Available:  1\n"
     ]
    }
   ],
   "source": [
    "print(\"Num GPUs Available: \", len(tf.config.experimental.list_physical_devices('GPU')))\n",
    "#with tf.device('/GPU:0'):"
   ]
  },
  {
   "cell_type": "code",
   "execution_count": 40,
   "metadata": {},
   "outputs": [],
   "source": [
    "from tensorflow.keras.callbacks import EarlyStopping    "
   ]
  },
  {
   "cell_type": "code",
   "execution_count": 95,
   "metadata": {},
   "outputs": [],
   "source": [
    "early_stop = EarlyStopping(monitor='val_loss',patience=5, restore_best_weights=True)"
   ]
  },
  {
   "cell_type": "code",
   "execution_count": 42,
   "metadata": {},
   "outputs": [],
   "source": [
    "#https://stackoverflow.com/questions/48225729/importerrorcould-not-import-pil-image-working-with-keras-ternsorflow/50775336\n",
    "import sys\n",
    "from PIL import Image\n",
    "sys.modules['Image'] = Image "
   ]
  },
  {
   "cell_type": "code",
   "execution_count": 43,
   "metadata": {},
   "outputs": [
    {
     "name": "stdout",
     "output_type": "stream",
     "text": [
      "C:\\Users\\Marcin\\Anaconda3\\envs\\TFgpu\\lib\\site-packages\\PIL\\Image.py\n",
      "C:\\Users\\Marcin\\Anaconda3\\envs\\TFgpu\\lib\\site-packages\\PIL\\Image.py\n"
     ]
    }
   ],
   "source": [
    "from PIL import Image\n",
    "print(Image.__file__)\n",
    "import Image\n",
    "print(Image.__file__)"
   ]
  },
  {
   "cell_type": "code",
   "execution_count": 44,
   "metadata": {},
   "outputs": [],
   "source": [
    "import warnings\n",
    "warnings.filterwarnings('ignore')"
   ]
  },
  {
   "cell_type": "code",
   "execution_count": 45,
   "metadata": {},
   "outputs": [
    {
     "data": {
      "text/plain": [
       "(array([[[[0.37647063, 0.3529412 , 0.3529412 ],\n",
       "          [0.38431376, 0.36078432, 0.36078432],\n",
       "          [0.38823533, 0.3647059 , 0.3647059 ],\n",
       "          ...,\n",
       "          [0.39607847, 0.40000004, 0.40784317],\n",
       "          [0.38823533, 0.3921569 , 0.40000004],\n",
       "          [0.38823533, 0.3921569 , 0.40000004]],\n",
       " \n",
       "         [[0.3803922 , 0.35686275, 0.35686275],\n",
       "          [0.3921569 , 0.36862746, 0.36862746],\n",
       "          [0.3921569 , 0.36862746, 0.36862746],\n",
       "          ...,\n",
       "          [0.39607847, 0.40000004, 0.40784317],\n",
       "          [0.38431376, 0.38823533, 0.39607847],\n",
       "          [0.3803922 , 0.38431376, 0.40000004]],\n",
       " \n",
       "         [[0.3921569 , 0.36862746, 0.36862746],\n",
       "          [0.3803922 , 0.35686275, 0.35686275],\n",
       "          [0.3803922 , 0.35686275, 0.35686275],\n",
       "          ...,\n",
       "          [0.39607847, 0.40000004, 0.40784317],\n",
       "          [0.4039216 , 0.40784317, 0.4156863 ],\n",
       "          [0.3921569 , 0.39607847, 0.41176474]],\n",
       " \n",
       "         ...,\n",
       " \n",
       "         [[0.41176474, 0.40000004, 0.3803922 ],\n",
       "          [0.39607847, 0.3921569 , 0.37254903],\n",
       "          [0.38823533, 0.38431376, 0.36862746],\n",
       "          ...,\n",
       "          [0.40000004, 0.40000004, 0.40784317],\n",
       "          [0.41176474, 0.40784317, 0.427451  ],\n",
       "          [0.40000004, 0.39607847, 0.4156863 ]],\n",
       " \n",
       "         [[0.40784317, 0.4039216 , 0.38431376],\n",
       "          [0.3921569 , 0.38823533, 0.36862746],\n",
       "          [0.38431376, 0.3803922 , 0.3647059 ],\n",
       "          ...,\n",
       "          [0.40000004, 0.40000004, 0.40784317],\n",
       "          [0.40784317, 0.4039216 , 0.42352945],\n",
       "          [0.3921569 , 0.38823533, 0.40784317]],\n",
       " \n",
       "         [[0.41176474, 0.40784317, 0.38823533],\n",
       "          [0.40000004, 0.39607847, 0.37647063],\n",
       "          [0.40000004, 0.39607847, 0.3803922 ],\n",
       "          ...,\n",
       "          [0.39607847, 0.39607847, 0.4039216 ],\n",
       "          [0.41960788, 0.4156863 , 0.43529415],\n",
       "          [0.4039216 , 0.40000004, 0.41960788]]],\n",
       " \n",
       " \n",
       "        [[[0.5058824 , 0.44705886, 0.427451  ],\n",
       "          [0.49803925, 0.43921572, 0.41176474],\n",
       "          [0.50980395, 0.45098042, 0.42352945],\n",
       "          ...,\n",
       "          [0.52156866, 0.4784314 , 0.46274513],\n",
       "          [0.50980395, 0.454902  , 0.4431373 ],\n",
       "          [0.50980395, 0.454902  , 0.4431373 ]],\n",
       " \n",
       "         [[0.4901961 , 0.43137258, 0.4039216 ],\n",
       "          [0.49411768, 0.43921572, 0.4039216 ],\n",
       "          [0.50980395, 0.454902  , 0.41960788],\n",
       "          ...,\n",
       "          [0.50980395, 0.4666667 , 0.45098042],\n",
       "          [0.5254902 , 0.47058827, 0.45882356],\n",
       "          [0.5568628 , 0.5019608 , 0.4901961 ]],\n",
       " \n",
       "         [[0.4784314 , 0.42352945, 0.38823533],\n",
       "          [0.4901961 , 0.43529415, 0.40000004],\n",
       "          [0.49411768, 0.43921572, 0.39607847],\n",
       "          ...,\n",
       "          [0.50980395, 0.4666667 , 0.45098042],\n",
       "          [0.5529412 , 0.49803925, 0.48627454],\n",
       "          [0.5647059 , 0.50980395, 0.49803925]],\n",
       " \n",
       "         ...,\n",
       " \n",
       "         [[0.48627454, 0.43529415, 0.4039216 ],\n",
       "          [0.49803925, 0.44705886, 0.4156863 ],\n",
       "          [0.50980395, 0.45882356, 0.427451  ],\n",
       "          ...,\n",
       "          [0.56078434, 0.5176471 , 0.5019608 ],\n",
       "          [0.5882353 , 0.54509807, 0.5294118 ],\n",
       "          [0.5803922 , 0.5372549 , 0.52156866]],\n",
       " \n",
       "         [[0.48235297, 0.43137258, 0.40000004],\n",
       "          [0.5019608 , 0.45098042, 0.41960788],\n",
       "          [0.5254902 , 0.47450984, 0.4431373 ],\n",
       "          ...,\n",
       "          [0.57254905, 0.5176471 , 0.5058824 ],\n",
       "          [0.5882353 , 0.53333336, 0.52156866],\n",
       "          [0.58431375, 0.5294118 , 0.5176471 ]],\n",
       " \n",
       "         [[0.5058824 , 0.454902  , 0.42352945],\n",
       "          [0.4901961 , 0.43921572, 0.40784317],\n",
       "          [0.5058824 , 0.454902  , 0.42352945],\n",
       "          ...,\n",
       "          [0.5882353 , 0.53333336, 0.52156866],\n",
       "          [0.5882353 , 0.53333336, 0.52156866],\n",
       "          [0.58431375, 0.5294118 , 0.5176471 ]]],\n",
       " \n",
       " \n",
       "        [[[0.54901963, 0.5568628 , 0.5137255 ],\n",
       "          [0.53333336, 0.5411765 , 0.49803925],\n",
       "          [0.45882356, 0.46274513, 0.43137258],\n",
       "          ...,\n",
       "          [0.53333336, 0.5294118 , 0.5137255 ],\n",
       "          [0.54901963, 0.54509807, 0.5294118 ],\n",
       "          [0.5411765 , 0.5372549 , 0.52156866]],\n",
       " \n",
       "         [[0.5529412 , 0.5568628 , 0.5254902 ],\n",
       "          [0.54901963, 0.5529412 , 0.52156866],\n",
       "          [0.4431373 , 0.44705886, 0.4156863 ],\n",
       "          ...,\n",
       "          [0.5294118 , 0.5254902 , 0.50980395],\n",
       "          [0.54509807, 0.5411765 , 0.5254902 ],\n",
       "          [0.53333336, 0.5294118 , 0.5137255 ]],\n",
       " \n",
       "         [[0.54509807, 0.54901963, 0.5254902 ],\n",
       "          [0.5411765 , 0.54509807, 0.52156866],\n",
       "          [0.45882356, 0.46274513, 0.43921572],\n",
       "          ...,\n",
       "          [0.5294118 , 0.5254902 , 0.50980395],\n",
       "          [0.54509807, 0.5411765 , 0.5254902 ],\n",
       "          [0.53333336, 0.5294118 , 0.5137255 ]],\n",
       " \n",
       "         ...,\n",
       " \n",
       "         [[0.5568628 , 0.54901963, 0.5529412 ],\n",
       "          [0.57254905, 0.5647059 , 0.5686275 ],\n",
       "          [0.45882356, 0.45098042, 0.454902  ],\n",
       "          ...,\n",
       "          [0.5411765 , 0.5568628 , 0.5529412 ],\n",
       "          [0.57254905, 0.5882353 , 0.58431375],\n",
       "          [0.49803925, 0.5137255 , 0.50980395]],\n",
       " \n",
       "         [[0.5686275 , 0.56078434, 0.5647059 ],\n",
       "          [0.57254905, 0.5647059 , 0.5686275 ],\n",
       "          [0.427451  , 0.41960788, 0.42352945],\n",
       "          ...,\n",
       "          [0.5647059 , 0.5882353 , 0.5803922 ],\n",
       "          [0.6117647 , 0.63529414, 0.627451  ],\n",
       "          [0.48627454, 0.50980395, 0.5019608 ]],\n",
       " \n",
       "         [[0.5803922 , 0.57254905, 0.5764706 ],\n",
       "          [0.48627454, 0.4784314 , 0.48235297],\n",
       "          [0.43529415, 0.427451  , 0.43137258],\n",
       "          ...,\n",
       "          [0.5647059 , 0.5882353 , 0.5803922 ],\n",
       "          [0.54901963, 0.57254905, 0.5647059 ],\n",
       "          [0.3921569 , 0.4156863 , 0.40784317]]],\n",
       " \n",
       " \n",
       "        ...,\n",
       " \n",
       " \n",
       "        [[[0.5882353 , 0.58431375, 0.5764706 ],\n",
       "          [0.6039216 , 0.6       , 0.5921569 ],\n",
       "          [0.5921569 , 0.5882353 , 0.5803922 ],\n",
       "          ...,\n",
       "          [0.54901963, 0.5411765 , 0.5529412 ],\n",
       "          [0.54901963, 0.5411765 , 0.5529412 ],\n",
       "          [0.54901963, 0.5411765 , 0.5529412 ]],\n",
       " \n",
       "         [[0.6431373 , 0.6392157 , 0.6313726 ],\n",
       "          [0.654902  , 0.6509804 , 0.6431373 ],\n",
       "          [0.6431373 , 0.6392157 , 0.6313726 ],\n",
       "          ...,\n",
       "          [0.5568628 , 0.54901963, 0.56078434],\n",
       "          [0.5411765 , 0.53333336, 0.54509807],\n",
       "          [0.5411765 , 0.53333336, 0.54509807]],\n",
       " \n",
       "         [[0.58431375, 0.5803922 , 0.57254905],\n",
       "          [0.5529412 , 0.54901963, 0.5411765 ],\n",
       "          [0.5647059 , 0.56078434, 0.5529412 ],\n",
       "          ...,\n",
       "          [0.54901963, 0.5411765 , 0.5529412 ],\n",
       "          [0.5529412 , 0.54509807, 0.5568628 ],\n",
       "          [0.56078434, 0.5529412 , 0.5647059 ]],\n",
       " \n",
       "         ...,\n",
       " \n",
       "         [[0.5764706 , 0.5764706 , 0.5764706 ],\n",
       "          [0.58431375, 0.58431375, 0.5921569 ],\n",
       "          [0.58431375, 0.58431375, 0.5921569 ],\n",
       "          ...,\n",
       "          [0.5529412 , 0.5568628 , 0.57254905],\n",
       "          [0.54509807, 0.54901963, 0.5647059 ],\n",
       "          [0.5568628 , 0.56078434, 0.5764706 ]],\n",
       " \n",
       "         [[0.5803922 , 0.5803922 , 0.5803922 ],\n",
       "          [0.58431375, 0.58431375, 0.5921569 ],\n",
       "          [0.5882353 , 0.5882353 , 0.59607846],\n",
       "          ...,\n",
       "          [0.5686275 , 0.57254905, 0.5882353 ],\n",
       "          [0.5529412 , 0.5568628 , 0.57254905],\n",
       "          [0.5686275 , 0.57254905, 0.5882353 ]],\n",
       " \n",
       "         [[0.5686275 , 0.5686275 , 0.5686275 ],\n",
       "          [0.5686275 , 0.5686275 , 0.5764706 ],\n",
       "          [0.5803922 , 0.5803922 , 0.5882353 ],\n",
       "          ...,\n",
       "          [0.5647059 , 0.5686275 , 0.58431375],\n",
       "          [0.5647059 , 0.5686275 , 0.58431375],\n",
       "          [0.5764706 , 0.5803922 , 0.59607846]]],\n",
       " \n",
       " \n",
       "        [[[0.6039216 , 0.60784316, 0.5882353 ],\n",
       "          [0.6313726 , 0.63529414, 0.6156863 ],\n",
       "          [0.6666667 , 0.67058825, 0.6509804 ],\n",
       "          ...,\n",
       "          [0.5921569 , 0.59607846, 0.5647059 ],\n",
       "          [0.59607846, 0.6       , 0.5686275 ],\n",
       "          [0.5372549 , 0.5411765 , 0.50980395]],\n",
       " \n",
       "         [[0.6156863 , 0.61960787, 0.6       ],\n",
       "          [0.5921569 , 0.59607846, 0.5764706 ],\n",
       "          [0.6117647 , 0.6156863 , 0.59607846],\n",
       "          ...,\n",
       "          [0.5568628 , 0.5568628 , 0.5254902 ],\n",
       "          [0.5921569 , 0.5921569 , 0.56078434],\n",
       "          [0.5764706 , 0.5764706 , 0.54509807]],\n",
       " \n",
       "         [[0.5921569 , 0.59607846, 0.5764706 ],\n",
       "          [0.6431373 , 0.64705884, 0.627451  ],\n",
       "          [0.64705884, 0.6509804 , 0.6313726 ],\n",
       "          ...,\n",
       "          [0.6431373 , 0.6313726 , 0.6039216 ],\n",
       "          [0.58431375, 0.57254905, 0.54509807],\n",
       "          [0.5647059 , 0.5529412 , 0.5254902 ]],\n",
       " \n",
       "         ...,\n",
       " \n",
       "         [[0.35686275, 0.3529412 , 0.17254902],\n",
       "          [0.64705884, 0.63529414, 0.45882356],\n",
       "          [0.5411765 , 0.5254902 , 0.34117648],\n",
       "          ...,\n",
       "          [0.5372549 , 0.54509807, 0.53333336],\n",
       "          [0.43921572, 0.44705886, 0.43529415],\n",
       "          [0.4784314 , 0.48627454, 0.47450984]],\n",
       " \n",
       "         [[0.5254902 , 0.5176471 , 0.35686275],\n",
       "          [0.45098042, 0.43921572, 0.27058825],\n",
       "          [0.5921569 , 0.5764706 , 0.40000004],\n",
       "          ...,\n",
       "          [0.53333336, 0.5411765 , 0.5294118 ],\n",
       "          [0.6       , 0.60784316, 0.59607846],\n",
       "          [0.43529415, 0.4431373 , 0.43137258]],\n",
       " \n",
       "         [[0.3529412 , 0.34509805, 0.19607845],\n",
       "          [0.4666667 , 0.454902  , 0.29411766],\n",
       "          [0.38823533, 0.37254903, 0.19607845],\n",
       "          ...,\n",
       "          [0.5921569 , 0.6       , 0.5882353 ],\n",
       "          [0.6627451 , 0.67058825, 0.65882355],\n",
       "          [0.52156866, 0.5294118 , 0.5176471 ]]],\n",
       " \n",
       " \n",
       "        [[[0.39607847, 0.37254903, 0.37254903],\n",
       "          [0.39607847, 0.37254903, 0.37254903],\n",
       "          [0.3921569 , 0.36862746, 0.36862746],\n",
       "          ...,\n",
       "          [0.2509804 , 0.2627451 , 0.18039216],\n",
       "          [0.3019608 , 0.3137255 , 0.23137257],\n",
       "          [0.32941177, 0.3372549 , 0.25490198]],\n",
       " \n",
       "         [[0.3921569 , 0.36862746, 0.36862746],\n",
       "          [0.39607847, 0.37254903, 0.37254903],\n",
       "          [0.39607847, 0.37254903, 0.37254903],\n",
       "          ...,\n",
       "          [0.3137255 , 0.3254902 , 0.24313727],\n",
       "          [0.32156864, 0.33333334, 0.2509804 ],\n",
       "          [0.30588236, 0.3137255 , 0.23137257]],\n",
       " \n",
       "         [[0.38823533, 0.3647059 , 0.3647059 ],\n",
       "          [0.3921569 , 0.36862746, 0.36862746],\n",
       "          [0.40000004, 0.37647063, 0.37647063],\n",
       "          ...,\n",
       "          [0.3019608 , 0.32156864, 0.23137257],\n",
       "          [0.29411766, 0.3137255 , 0.227451  ],\n",
       "          [0.21568629, 0.227451  , 0.14509805]],\n",
       " \n",
       "         ...,\n",
       " \n",
       "         [[0.43921572, 0.4784314 , 0.34509805],\n",
       "          [0.44705886, 0.48235297, 0.36078432],\n",
       "          [0.40000004, 0.42352945, 0.3137255 ],\n",
       "          ...,\n",
       "          [0.43921572, 0.40000004, 0.4039216 ],\n",
       "          [0.45098042, 0.41176474, 0.4156863 ],\n",
       "          [0.454902  , 0.4156863 , 0.41960788]],\n",
       " \n",
       "         [[0.43529415, 0.454902  , 0.32941177],\n",
       "          [0.37254903, 0.3921569 , 0.27450982],\n",
       "          [0.4156863 , 0.427451  , 0.32156864],\n",
       "          ...,\n",
       "          [0.41960788, 0.3803922 , 0.38431376],\n",
       "          [0.427451  , 0.38823533, 0.3921569 ],\n",
       "          [0.43921572, 0.40000004, 0.4039216 ]],\n",
       " \n",
       "         [[0.4039216 , 0.40784317, 0.28627452],\n",
       "          [0.34509805, 0.34509805, 0.23529413],\n",
       "          [0.3372549 , 0.32941177, 0.2392157 ],\n",
       "          ...,\n",
       "          [0.4156863 , 0.37647063, 0.3803922 ],\n",
       "          [0.42352945, 0.38431376, 0.38823533],\n",
       "          [0.427451  , 0.38823533, 0.3921569 ]]]], dtype=float32),\n",
       " array([[1., 0., 0.],\n",
       "        [0., 0., 1.],\n",
       "        [0., 1., 0.],\n",
       "        [0., 1., 0.],\n",
       "        [1., 0., 0.],\n",
       "        [1., 0., 0.],\n",
       "        [1., 0., 0.],\n",
       "        [1., 0., 0.],\n",
       "        [0., 0., 1.],\n",
       "        [0., 0., 1.],\n",
       "        [0., 1., 0.],\n",
       "        [1., 0., 0.],\n",
       "        [0., 1., 0.],\n",
       "        [1., 0., 0.],\n",
       "        [0., 0., 1.],\n",
       "        [0., 0., 1.],\n",
       "        [0., 1., 0.],\n",
       "        [0., 1., 0.],\n",
       "        [0., 0., 1.],\n",
       "        [0., 0., 1.],\n",
       "        [0., 1., 0.],\n",
       "        [0., 1., 0.],\n",
       "        [0., 0., 1.],\n",
       "        [0., 0., 1.],\n",
       "        [0., 1., 0.],\n",
       "        [1., 0., 0.],\n",
       "        [1., 0., 0.],\n",
       "        [0., 0., 1.],\n",
       "        [1., 0., 0.],\n",
       "        [0., 1., 0.],\n",
       "        [1., 0., 0.],\n",
       "        [0., 0., 1.]], dtype=float32))"
      ]
     },
     "execution_count": 45,
     "metadata": {},
     "output_type": "execute_result"
    }
   ],
   "source": [
    "train_image_gen[0]"
   ]
  },
  {
   "cell_type": "code",
   "execution_count": null,
   "metadata": {},
   "outputs": [],
   "source": []
  },
  {
   "cell_type": "code",
   "execution_count": 139,
   "metadata": {},
   "outputs": [
    {
     "name": "stdout",
     "output_type": "stream",
     "text": [
      "WARNING:tensorflow:sample_weight modes were coerced from\n",
      "  ...\n",
      "    to  \n",
      "  ['...']\n",
      "WARNING:tensorflow:sample_weight modes were coerced from\n",
      "  ...\n",
      "    to  \n",
      "  ['...']\n",
      "Train for 20 steps, validate for 7 steps\n",
      "Epoch 1/50\n",
      "20/20 [==============================] - 3s 170ms/step - loss: 1.0964 - accuracy: 0.4593 - val_loss: 1.1043 - val_accuracy: 0.4762\n",
      "Epoch 2/50\n",
      "20/20 [==============================] - 3s 162ms/step - loss: 1.1370 - accuracy: 0.4163 - val_loss: 1.1336 - val_accuracy: 0.4524\n",
      "Epoch 3/50\n",
      "20/20 [==============================] - 3s 152ms/step - loss: 1.0831 - accuracy: 0.5040 - val_loss: 1.1602 - val_accuracy: 0.4667\n",
      "Epoch 4/50\n",
      "20/20 [==============================] - 3s 165ms/step - loss: 1.0752 - accuracy: 0.4689 - val_loss: 1.0985 - val_accuracy: 0.4714\n",
      "Epoch 5/50\n",
      "20/20 [==============================] - 3s 151ms/step - loss: 1.0487 - accuracy: 0.5040 - val_loss: 1.1777 - val_accuracy: 0.5095\n",
      "Epoch 6/50\n",
      "20/20 [==============================] - 3s 151ms/step - loss: 0.9653 - accuracy: 0.5534 - val_loss: 1.1464 - val_accuracy: 0.4524\n",
      "Epoch 7/50\n",
      "20/20 [==============================] - 3s 161ms/step - loss: 0.8781 - accuracy: 0.5646 - val_loss: 1.0867 - val_accuracy: 0.5476\n",
      "Epoch 8/50\n",
      "20/20 [==============================] - 3s 151ms/step - loss: 0.8654 - accuracy: 0.6061 - val_loss: 1.1959 - val_accuracy: 0.5048\n",
      "Epoch 9/50\n",
      "20/20 [==============================] - 3s 152ms/step - loss: 0.9005 - accuracy: 0.5534 - val_loss: 1.3072 - val_accuracy: 0.5048\n",
      "Epoch 10/50\n",
      "20/20 [==============================] - 3s 153ms/step - loss: 0.8985 - accuracy: 0.5678 - val_loss: 1.1576 - val_accuracy: 0.5952\n",
      "Epoch 11/50\n",
      "20/20 [==============================] - 3s 152ms/step - loss: 1.0143 - accuracy: 0.5837 - val_loss: 1.4127 - val_accuracy: 0.3476\n",
      "Epoch 12/50\n",
      "20/20 [==============================] - 3s 163ms/step - loss: 1.0629 - accuracy: 0.4689 - val_loss: 1.0860 - val_accuracy: 0.5048\n",
      "Epoch 13/50\n",
      "20/20 [==============================] - 3s 152ms/step - loss: 0.8452 - accuracy: 0.6093 - val_loss: 1.2293 - val_accuracy: 0.5429\n",
      "Epoch 14/50\n",
      "20/20 [==============================] - 3s 153ms/step - loss: 0.7693 - accuracy: 0.6396 - val_loss: 1.4704 - val_accuracy: 0.5286\n",
      "Epoch 15/50\n",
      "20/20 [==============================] - 3s 154ms/step - loss: 0.7946 - accuracy: 0.6300 - val_loss: 1.3467 - val_accuracy: 0.5429\n",
      "Epoch 16/50\n",
      "20/20 [==============================] - 3s 152ms/step - loss: 0.7743 - accuracy: 0.6396 - val_loss: 1.1341 - val_accuracy: 0.5571\n",
      "Epoch 17/50\n",
      "20/20 [==============================] - 3s 155ms/step - loss: 0.6795 - accuracy: 0.6970 - val_loss: 1.3243 - val_accuracy: 0.5571\n"
     ]
    }
   ],
   "source": [
    "with tf.device('/GPU:0'):\n",
    "    results = model.fit_generator(train_image_gen,epochs=50,\n",
    "                                  validation_data=val_image_gen,\n",
    "                                 callbacks=[early_stop])"
   ]
  },
  {
   "cell_type": "code",
   "execution_count": 52,
   "metadata": {},
   "outputs": [],
   "source": [
    "from tensorflow.keras.models import load_model"
   ]
  },
  {
   "cell_type": "code",
   "execution_count": 5,
   "metadata": {},
   "outputs": [],
   "source": [
    "model = load_model(\"./modele/Model2_4cat.h5\")"
   ]
  },
  {
   "cell_type": "code",
   "execution_count": 100,
   "metadata": {},
   "outputs": [],
   "source": [
    "losses = pd.DataFrame(model.history.history)"
   ]
  },
  {
   "cell_type": "code",
   "execution_count": 101,
   "metadata": {},
   "outputs": [
    {
     "data": {
      "text/plain": [
       "<matplotlib.axes._subplots.AxesSubplot at 0x27e0e477988>"
      ]
     },
     "execution_count": 101,
     "metadata": {},
     "output_type": "execute_result"
    },
    {
     "data": {
      "image/png": "[encoded data removed]",
      "text/plain": [
       "<Figure size 432x288 with 1 Axes>"
      ]
     },
     "metadata": {
      "needs_background": "light"
     },
     "output_type": "display_data"
    }
   ],
   "source": [
    "losses[['loss','val_loss']].plot()"
   ]
  },
  {
   "cell_type": "code",
   "execution_count": 102,
   "metadata": {},
   "outputs": [
    {
     "data": {
      "text/plain": [
       "<matplotlib.axes._subplots.AxesSubplot at 0x27e0e4dc608>"
      ]
     },
     "execution_count": 102,
     "metadata": {},
     "output_type": "execute_result"
    },
    {
     "data": {
      "image/png": "[encoded data removed]",
      "text/plain": [
       "<Figure size 432x288 with 1 Axes>"
      ]
     },
     "metadata": {
      "needs_background": "light"
     },
     "output_type": "display_data"
    }
   ],
   "source": [
    "losses[['accuracy','val_accuracy']].plot()"
   ]
  },
  {
   "cell_type": "code",
   "execution_count": 68,
   "metadata": {},
   "outputs": [],
   "source": [
    "from sklearn.metrics import classification_report,confusion_matrix"
   ]
  },
  {
   "cell_type": "code",
   "execution_count": 69,
   "metadata": {},
   "outputs": [
    {
     "name": "stdout",
     "output_type": "stream",
     "text": [
      "WARNING:tensorflow:sample_weight modes were coerced from\n",
      "  ...\n",
      "    to  \n",
      "  ['...']\n"
     ]
    },
    {
     "data": {
      "text/plain": [
       "[0.7314676016569137, 0.72727275]"
      ]
     },
     "execution_count": 69,
     "metadata": {},
     "output_type": "execute_result"
    }
   ],
   "source": [
    "model.evaluate_generator(val_image_gen)"
   ]
  },
  {
   "cell_type": "code",
   "execution_count": 70,
   "metadata": {},
   "outputs": [
    {
     "name": "stdout",
     "output_type": "stream",
     "text": [
      "WARNING:tensorflow:From <ipython-input-70-b9ca31566037>:1: Model.predict_generator (from tensorflow.python.keras.engine.training) is deprecated and will be removed in a future version.\n",
      "Instructions for updating:\n",
      "Please use Model.predict, which supports generators.\n"
     ]
    }
   ],
   "source": [
    "pred= model.predict_generator(val_image_gen)"
   ]
  },
  {
   "cell_type": "code",
   "execution_count": 71,
   "metadata": {},
   "outputs": [
    {
     "data": {
      "text/plain": [
       "array([0, 0, 0, 0, 0, 0, 0, 0, 0, 0, 0, 0, 0, 2, 2, 2, 2, 2, 0, 0, 2, 2,\n",
       "       2, 2, 0, 0, 2, 0, 0, 0, 0, 2, 0, 2, 0, 0, 0, 0, 0, 0, 1, 1, 1, 1,\n",
       "       2, 1, 0, 2, 0, 2, 2, 1, 0, 1, 1, 1, 1, 1, 1, 1, 1, 0, 1, 1, 2, 1,\n",
       "       1, 1, 1, 1, 1, 1, 1, 1, 1, 1, 1, 1, 1, 1, 1, 1, 1, 1, 1, 1, 1, 1,\n",
       "       1, 2, 1, 1, 1, 1, 1, 1, 1, 1, 1, 1, 1, 1, 1, 1, 0, 0, 2, 0, 2, 2,\n",
       "       2, 2, 2, 2, 0, 0, 0, 2, 0, 2, 2, 1, 1, 1, 2, 2, 0, 2, 2, 2, 2, 2,\n",
       "       0, 2, 2, 2, 2, 2, 0, 2, 2, 2, 1, 1, 2, 2, 2, 2, 0, 2, 2, 2, 2, 0],\n",
       "      dtype=int64)"
      ]
     },
     "execution_count": 71,
     "metadata": {},
     "output_type": "execute_result"
    }
   ],
   "source": [
    "predicted_class_indices=np.argmax(pred,axis=1)\n",
    "predicted_class_indices"
   ]
  },
  {
   "cell_type": "code",
   "execution_count": 72,
   "metadata": {},
   "outputs": [
    {
     "data": {
      "text/plain": [
       "{'Asfalt': 0, 'Kostka': 1, 'Polna': 2}"
      ]
     },
     "execution_count": 72,
     "metadata": {},
     "output_type": "execute_result"
    }
   ],
   "source": [
    "labels = (val_image_gen.class_indices)\n",
    "labels"
   ]
  },
  {
   "cell_type": "code",
   "execution_count": 74,
   "metadata": {},
   "outputs": [
    {
     "data": {
      "text/plain": [
       "{0: 'Asfalt', 1: 'Kostka', 2: 'Polna'}"
      ]
     },
     "execution_count": 74,
     "metadata": {},
     "output_type": "execute_result"
    }
   ],
   "source": [
    "labels2 = dict((v,k) for k,v in labels.items())\n",
    "labels2"
   ]
  },
  {
   "cell_type": "code",
   "execution_count": 75,
   "metadata": {},
   "outputs": [],
   "source": [
    "predictions = [labels2[k] for k in predicted_class_indices]"
   ]
  },
  {
   "cell_type": "code",
   "execution_count": 89,
   "metadata": {},
   "outputs": [
    {
     "name": "stdout",
     "output_type": "stream",
     "text": [
      "[0 0 0 0 0 0 1 2 0 0 2 2 2 2 2 2 2 2 0 0 0 0 0 0 0 0 0 0 0 0 0 0 0 0 0 0 0\n",
      " 0 0 1 2 2 2 2 2 2 0 2 0 0 0 1 0 1 1 1 1 1 1 1 1 2 2 2 2 2 1 1 1 2 2 2 2 2\n",
      " 0 2 2 2 2 2 1 2 1 2 1 1 1 1 0 0 2 1 1 1 2 1 1 2 1 1 1 1 1 1 0 2 2 2 2 2 2\n",
      " 2 2 2 1 2 2 2 2 1 1 1 1 2 1 1 1 1 2 1 2 2 2 2 2 2 0 0 0 2 2 2 1 1 2 1 1 2\n",
      " 2 2 2 2 2 0 2 0 0 2 2 2]\n",
      "{'Asfalt': 0, 'Kostka': 1, 'Utwardzona': 2}\n",
      "['Asfalt', 'Asfalt', 'Asfalt', 'Asfalt', 'Asfalt', 'Asfalt', 'Kostka', 'Utwardzona', 'Asfalt', 'Asfalt', 'Utwardzona', 'Utwardzona', 'Utwardzona', 'Utwardzona', 'Utwardzona', 'Utwardzona', 'Utwardzona', 'Utwardzona', 'Asfalt', 'Asfalt', 'Asfalt', 'Asfalt', 'Asfalt', 'Asfalt', 'Asfalt', 'Asfalt', 'Asfalt', 'Asfalt', 'Asfalt', 'Asfalt', 'Asfalt', 'Asfalt', 'Asfalt', 'Asfalt', 'Asfalt', 'Asfalt', 'Asfalt', 'Asfalt', 'Asfalt', 'Kostka', 'Utwardzona', 'Utwardzona', 'Utwardzona', 'Utwardzona', 'Utwardzona', 'Utwardzona', 'Asfalt', 'Utwardzona', 'Asfalt', 'Asfalt', 'Asfalt', 'Kostka', 'Asfalt', 'Kostka', 'Kostka', 'Kostka', 'Kostka', 'Kostka', 'Kostka', 'Kostka', 'Kostka', 'Utwardzona', 'Utwardzona', 'Utwardzona', 'Utwardzona', 'Utwardzona', 'Kostka', 'Kostka', 'Kostka', 'Utwardzona', 'Utwardzona', 'Utwardzona', 'Utwardzona', 'Utwardzona', 'Asfalt', 'Utwardzona', 'Utwardzona', 'Utwardzona', 'Utwardzona', 'Utwardzona', 'Kostka', 'Utwardzona', 'Kostka', 'Utwardzona', 'Kostka', 'Kostka', 'Kostka', 'Kostka', 'Asfalt', 'Asfalt', 'Utwardzona', 'Kostka', 'Kostka', 'Kostka', 'Utwardzona', 'Kostka', 'Kostka', 'Utwardzona', 'Kostka', 'Kostka', 'Kostka', 'Kostka', 'Kostka', 'Kostka', 'Asfalt', 'Utwardzona', 'Utwardzona', 'Utwardzona', 'Utwardzona', 'Utwardzona', 'Utwardzona', 'Utwardzona', 'Utwardzona', 'Utwardzona', 'Kostka', 'Utwardzona', 'Utwardzona', 'Utwardzona', 'Utwardzona', 'Kostka', 'Kostka', 'Kostka', 'Kostka', 'Utwardzona', 'Kostka', 'Kostka', 'Kostka', 'Kostka', 'Utwardzona', 'Kostka', 'Utwardzona', 'Utwardzona', 'Utwardzona', 'Utwardzona', 'Utwardzona', 'Utwardzona', 'Asfalt', 'Asfalt', 'Asfalt', 'Utwardzona', 'Utwardzona', 'Utwardzona', 'Kostka', 'Kostka', 'Utwardzona', 'Kostka', 'Kostka', 'Utwardzona', 'Utwardzona', 'Utwardzona', 'Utwardzona', 'Utwardzona', 'Utwardzona', 'Asfalt', 'Utwardzona', 'Asfalt', 'Asfalt', 'Utwardzona', 'Utwardzona', 'Utwardzona']\n"
     ]
    }
   ],
   "source": [
    "print(predicted_class_indices)\n",
    "print (labels)\n",
    "print (predictions)"
   ]
  },
  {
   "cell_type": "code",
   "execution_count": 76,
   "metadata": {},
   "outputs": [
    {
     "data": {
      "text/plain": [
       "{0: 'Asfalt', 1: 'Kostka', 2: 'Polna'}"
      ]
     },
     "execution_count": 76,
     "metadata": {},
     "output_type": "execute_result"
    }
   ],
   "source": [
    "labels2"
   ]
  },
  {
   "cell_type": "code",
   "execution_count": 77,
   "metadata": {},
   "outputs": [
    {
     "name": "stdout",
     "output_type": "stream",
     "text": [
      "              precision    recall  f1-score   support\n",
      "\n",
      "           0       0.70      0.58      0.64        53\n",
      "           1       0.81      0.94      0.87        51\n",
      "           2       0.65      0.66      0.65        50\n",
      "\n",
      "    accuracy                           0.73       154\n",
      "   macro avg       0.72      0.73      0.72       154\n",
      "weighted avg       0.72      0.73      0.72       154\n",
      "\n"
     ]
    }
   ],
   "source": [
    "print(classification_report(val_image_gen.classes,predicted_class_indices))"
   ]
  },
  {
   "cell_type": "code",
   "execution_count": 78,
   "metadata": {},
   "outputs": [
    {
     "data": {
      "text/plain": [
       "array([[31,  6, 16],\n",
       "       [ 1, 48,  2],\n",
       "       [12,  5, 33]], dtype=int64)"
      ]
     },
     "execution_count": 78,
     "metadata": {},
     "output_type": "execute_result"
    }
   ],
   "source": [
    "confusion_matrix(val_image_gen.classes, predicted_class_indices)"
   ]
  },
  {
   "cell_type": "code",
   "execution_count": 79,
   "metadata": {},
   "outputs": [
    {
     "data": {
      "text/plain": [
       "<matplotlib.axes._subplots.AxesSubplot at 0x27e0da4e708>"
      ]
     },
     "execution_count": 79,
     "metadata": {},
     "output_type": "execute_result"
    },
    {
     "data": {
      "image/png": "[encoded data removed]",
      "text/plain": [
       "<Figure size 720x432 with 2 Axes>"
      ]
     },
     "metadata": {
      "needs_background": "light"
     },
     "output_type": "display_data"
    }
   ],
   "source": [
    "import seaborn as sns\n",
    "plt.figure(figsize=(10,6))\n",
    "sns.heatmap(confusion_matrix(val_image_gen.classes,predicted_class_indices),annot=True)\n",
    "#y - true \n",
    "#x - predicted"
   ]
  },
  {
   "cell_type": "code",
   "execution_count": 40,
   "metadata": {},
   "outputs": [
    {
     "name": "stdout",
     "output_type": "stream",
     "text": [
      "Help on function confusion_matrix in module sklearn.metrics._classification:\n",
      "\n",
      "confusion_matrix(y_true, y_pred, *, labels=None, sample_weight=None, normalize=None)\n",
      "    Compute confusion matrix to evaluate the accuracy of a classification.\n",
      "    \n",
      "    By definition a confusion matrix :math:`C` is such that :math:`C_{i, j}`\n",
      "    is equal to the number of observations known to be in group :math:`i` and\n",
      "    predicted to be in group :math:`j`.\n",
      "    \n",
      "    Thus in binary classification, the count of true negatives is\n",
      "    :math:`C_{0,0}`, false negatives is :math:`C_{1,0}`, true positives is\n",
      "    :math:`C_{1,1}` and false positives is :math:`C_{0,1}`.\n",
      "    \n",
      "    Read more in the :ref:`User Guide <confusion_matrix>`.\n",
      "    \n",
      "    Parameters\n",
      "    ----------\n",
      "    y_true : array-like of shape (n_samples,)\n",
      "        Ground truth (correct) target values.\n",
      "    \n",
      "    y_pred : array-like of shape (n_samples,)\n",
      "        Estimated targets as returned by a classifier.\n",
      "    \n",
      "    labels : array-like of shape (n_classes), default=None\n",
      "        List of labels to index the matrix. This may be used to reorder\n",
      "        or select a subset of labels.\n",
      "        If ``None`` is given, those that appear at least once\n",
      "        in ``y_true`` or ``y_pred`` are used in sorted order.\n",
      "    \n",
      "    sample_weight : array-like of shape (n_samples,), default=None\n",
      "        Sample weights.\n",
      "    \n",
      "        .. versionadded:: 0.18\n",
      "    \n",
      "    normalize : {'true', 'pred', 'all'}, default=None\n",
      "        Normalizes confusion matrix over the true (rows), predicted (columns)\n",
      "        conditions or all the population. If None, confusion matrix will not be\n",
      "        normalized.\n",
      "    \n",
      "    Returns\n",
      "    -------\n",
      "    C : ndarray of shape (n_classes, n_classes)\n",
      "        Confusion matrix whose i-th row and j-th\n",
      "        column entry indicates the number of\n",
      "        samples with true label being i-th class\n",
      "        and prediced label being j-th class.\n",
      "    \n",
      "    References\n",
      "    ----------\n",
      "    .. [1] `Wikipedia entry for the Confusion matrix\n",
      "           <https://en.wikipedia.org/wiki/Confusion_matrix>`_\n",
      "           (Wikipedia and other references may use a different\n",
      "           convention for axes)\n",
      "    \n",
      "    Examples\n",
      "    --------\n",
      "    >>> from sklearn.metrics import confusion_matrix\n",
      "    >>> y_true = [2, 0, 2, 2, 0, 1]\n",
      "    >>> y_pred = [0, 0, 2, 2, 0, 2]\n",
      "    >>> confusion_matrix(y_true, y_pred)\n",
      "    array([[2, 0, 0],\n",
      "           [0, 0, 1],\n",
      "           [1, 0, 2]])\n",
      "    \n",
      "    >>> y_true = [\"cat\", \"ant\", \"cat\", \"cat\", \"ant\", \"bird\"]\n",
      "    >>> y_pred = [\"ant\", \"ant\", \"cat\", \"cat\", \"ant\", \"cat\"]\n",
      "    >>> confusion_matrix(y_true, y_pred, labels=[\"ant\", \"bird\", \"cat\"])\n",
      "    array([[2, 0, 0],\n",
      "           [0, 0, 1],\n",
      "           [1, 0, 2]])\n",
      "    \n",
      "    In the binary case, we can extract true positives, etc as follows:\n",
      "    \n",
      "    >>> tn, fp, fn, tp = confusion_matrix([0, 1, 0, 1], [1, 1, 1, 0]).ravel()\n",
      "    >>> (tn, fp, fn, tp)\n",
      "    (0, 2, 1, 1)\n",
      "\n"
     ]
    }
   ],
   "source": [
    "help(confusion_matrix)"
   ]
  },
  {
   "cell_type": "code",
   "execution_count": 128,
   "metadata": {},
   "outputs": [],
   "source": [
    "#model.save(\"Model2_4cat.h5\")"
   ]
  },
  {
   "cell_type": "code",
   "execution_count": null,
   "metadata": {},
   "outputs": [],
   "source": []
  }
 ],
 "metadata": {
  "kernelspec": {
   "display_name": "Python 3",
   "language": "python",
   "name": "python3"
  },
  "language_info": {
   "codemirror_mode": {
    "name": "ipython",
    "version": 3
   },
   "file_extension": ".py",
   "mimetype": "text/x-python",
   "name": "python",
   "nbconvert_exporter": "python",
   "pygments_lexer": "ipython3",
   "version": "3.7.7"
  }
 },
 "nbformat": 4,
 "nbformat_minor": 4
}
