{
 "cells": [
  {
   "cell_type": "code",
   "execution_count": 32,
   "metadata": {},
   "outputs": [],
   "source": [
    "import os\n",
    "import pandas as pd\n",
    "import numpy as np\n",
    "import seaborn as sns\n",
    "import matplotlib.pyplot as plt\n",
    "from matplotlib.image import imread\n",
    "import tensorflow as tf\n",
    "from tensorflow.keras import applications\n",
    "from tensorflow.keras.models import load_model\n",
    "from tensorflow.keras.applications import VGG16\n",
    "from tensorflow.keras.layers import Dense, Flatten, Input,Dropout\n",
    "from tensorflow.keras.models import Model\n",
    "from tensorflow.keras.optimizers import SGD\n",
    "from tensorflow.keras.models import Sequential\n",
    "%matplotlib inline"
   ]
  },
  {
   "cell_type": "code",
   "execution_count": 33,
   "metadata": {},
   "outputs": [],
   "source": [
    "my_data_dir = 'C:\\\\Users\\\\Marcin\\\\Desktop\\\\Python\\\\Studia\\\\RoadClassification\\\\baza'"
   ]
  },
  {
   "cell_type": "code",
   "execution_count": 34,
   "metadata": {},
   "outputs": [],
   "source": [
    "val_path = my_data_dir+'\\\\val\\\\'\n",
    "train_path = my_data_dir+'\\\\train\\\\'"
   ]
  },
  {
   "cell_type": "code",
   "execution_count": 35,
   "metadata": {},
   "outputs": [],
   "source": [
    "from tensorflow.keras.preprocessing.image import ImageDataGenerator"
   ]
  },
  {
   "cell_type": "code",
   "execution_count": 36,
   "metadata": {},
   "outputs": [],
   "source": [
    "train_image_gen = ImageDataGenerator(rescale=1. /255,# Rescale the image by normalzing it\n",
    "                                     horizontal_flip = True,\n",
    "                                     vertical_flip= True,\n",
    "                                     brightness_range=[0.2,1.0],\n",
    "                                     featurewise_center=True,\n",
    "                                     featurewise_std_normalization=True\n",
    "                              )"
   ]
  },
  {
   "cell_type": "code",
   "execution_count": 37,
   "metadata": {},
   "outputs": [],
   "source": [
    "val_image_gen = ImageDataGenerator(rescale=1. /255, # Rescale the image by normalzing it\n",
    "                              )"
   ]
  },
  {
   "cell_type": "code",
   "execution_count": 38,
   "metadata": {},
   "outputs": [],
   "source": [
    "train_samples = 627\n",
    "validation_samples = 210\n",
    "epochs = 50\n",
    "batch_size = 16\n",
    "image_shape = (224,224,3)"
   ]
  },
  {
   "cell_type": "code",
   "execution_count": 39,
   "metadata": {},
   "outputs": [
    {
     "name": "stdout",
     "output_type": "stream",
     "text": [
      "Found 627 images belonging to 4 classes.\n"
     ]
    }
   ],
   "source": [
    "train_images = train_image_gen.flow_from_directory(train_path,\n",
    "                                               target_size=image_shape[:2],\n",
    "                                                color_mode='rgb',\n",
    "                                               class_mode='categorical',\n",
    "                                                  batch_size=batch_size)"
   ]
  },
  {
   "cell_type": "code",
   "execution_count": 40,
   "metadata": {},
   "outputs": [
    {
     "name": "stdout",
     "output_type": "stream",
     "text": [
      "Found 210 images belonging to 4 classes.\n"
     ]
    }
   ],
   "source": [
    "val_images = val_image_gen.flow_from_directory(val_path,\n",
    "                                               target_size=image_shape[:2],\n",
    "                                                color_mode='rgb',\n",
    "                                               class_mode='categorical',\n",
    "                                               batch_size=batch_size,\n",
    "                                             shuffle = False)"
   ]
  },
  {
   "cell_type": "code",
   "execution_count": 41,
   "metadata": {
    "scrolled": true
   },
   "outputs": [
    {
     "data": {
      "text/plain": [
       "'\\nfrom keras.preprocessing.image import ImageDataGenerator\\nfrom keras.applications import VGG16\\nfrom keras.layers.core import Dropout\\nfrom keras.layers.core import Flatten\\nfrom keras.layers.core import Dense\\nfrom keras.layers import Input\\nfrom keras.models import Model\\nfrom keras.optimizers import SGD\\nfrom sklearn.metrics import classification_report\\nfrom pyimagesearch import config\\nfrom imutils import paths\\nimport matplotlib.pyplot as plt\\nimport numpy as np\\nimport pickle\\nimport os\\n'"
      ]
     },
     "execution_count": 41,
     "metadata": {},
     "output_type": "execute_result"
    }
   ],
   "source": [
    "\"\"\"\n",
    "from keras.preprocessing.image import ImageDataGenerator\n",
    "from keras.applications import VGG16\n",
    "from keras.layers.core import Dropout\n",
    "from keras.layers.core import Flatten\n",
    "from keras.layers.core import Dense\n",
    "from keras.layers import Input\n",
    "from keras.models import Model\n",
    "from keras.optimizers import SGD\n",
    "from sklearn.metrics import classification_report\n",
    "from pyimagesearch import config\n",
    "from imutils import paths\n",
    "import matplotlib.pyplot as plt\n",
    "import numpy as np\n",
    "import pickle\n",
    "import os\n",
    "\"\"\""
   ]
  },
  {
   "cell_type": "code",
   "execution_count": 42,
   "metadata": {},
   "outputs": [],
   "source": [
    "baseModel = VGG16(weights=\"imagenet\", include_top=False,\n",
    "    input_tensor=Input(shape=(224, 224, 3)))"
   ]
  },
  {
   "cell_type": "code",
   "execution_count": 43,
   "metadata": {},
   "outputs": [],
   "source": [
    "headModel = baseModel.output\n",
    "headModel = Flatten(name=\"flatten\")(headModel)\n",
    "headModel = Dense(512, activation=\"relu\")(headModel)\n",
    "headModel = Dropout(0.5)(headModel)\n",
    "headModel = Dense(4, activation=\"softmax\")(headModel)"
   ]
  },
  {
   "cell_type": "code",
   "execution_count": 44,
   "metadata": {},
   "outputs": [],
   "source": [
    "model = Model(inputs=baseModel.input, outputs=headModel)"
   ]
  },
  {
   "cell_type": "code",
   "execution_count": 45,
   "metadata": {},
   "outputs": [],
   "source": [
    "for layer in baseModel.layers:\n",
    "\tlayer.trainable = False"
   ]
  },
  {
   "cell_type": "code",
   "execution_count": 46,
   "metadata": {},
   "outputs": [],
   "source": [
    "opt = SGD(lr=1e-4, momentum=0.9)"
   ]
  },
  {
   "cell_type": "code",
   "execution_count": 47,
   "metadata": {},
   "outputs": [],
   "source": [
    "model.compile(loss=\"categorical_crossentropy\", optimizer=opt,\n",
    "\tmetrics=[\"accuracy\"])"
   ]
  },
  {
   "cell_type": "code",
   "execution_count": 48,
   "metadata": {},
   "outputs": [
    {
     "name": "stdout",
     "output_type": "stream",
     "text": [
      "Num GPUs Available:  1\n"
     ]
    }
   ],
   "source": [
    "print(\"Num GPUs Available: \", len(tf.config.experimental.list_physical_devices('GPU')))"
   ]
  },
  {
   "cell_type": "code",
   "execution_count": 49,
   "metadata": {},
   "outputs": [
    {
     "name": "stdout",
     "output_type": "stream",
     "text": [
      "WARNING:tensorflow:From <ipython-input-49-ec6ff2fc0e54>:7: Model.fit_generator (from tensorflow.python.keras.engine.training) is deprecated and will be removed in a future version.\n",
      "Instructions for updating:\n",
      "Please use Model.fit, which supports generators.\n",
      "WARNING:tensorflow:sample_weight modes were coerced from\n",
      "  ...\n",
      "    to  \n",
      "  ['...']\n",
      "WARNING:tensorflow:sample_weight modes were coerced from\n",
      "  ...\n",
      "    to  \n",
      "  ['...']\n"
     ]
    },
    {
     "name": "stderr",
     "output_type": "stream",
     "text": [
      "C:\\Users\\Marcin\\Anaconda3\\envs\\TFgpu\\lib\\site-packages\\keras_preprocessing\\image\\image_data_generator.py:716: UserWarning: This ImageDataGenerator specifies `featurewise_center`, but it hasn't been fit on any training data. Fit it first by calling `.fit(numpy_data)`.\n",
      "  warnings.warn('This ImageDataGenerator specifies '\n",
      "C:\\Users\\Marcin\\Anaconda3\\envs\\TFgpu\\lib\\site-packages\\keras_preprocessing\\image\\image_data_generator.py:724: UserWarning: This ImageDataGenerator specifies `featurewise_std_normalization`, but it hasn't been fit on any training data. Fit it first by calling `.fit(numpy_data)`.\n",
      "  warnings.warn('This ImageDataGenerator specifies '\n"
     ]
    },
    {
     "name": "stdout",
     "output_type": "stream",
     "text": [
      "Train for 39 steps, validate for 13 steps\n",
      "Epoch 1/50\n"
     ]
    },
    {
     "name": "stderr",
     "output_type": "stream",
     "text": [
      "C:\\Users\\Marcin\\Anaconda3\\envs\\TFgpu\\lib\\site-packages\\keras_preprocessing\\image\\image_data_generator.py:716: UserWarning: This ImageDataGenerator specifies `featurewise_center`, but it hasn't been fit on any training data. Fit it first by calling `.fit(numpy_data)`.\n",
      "  warnings.warn('This ImageDataGenerator specifies '\n",
      "C:\\Users\\Marcin\\Anaconda3\\envs\\TFgpu\\lib\\site-packages\\keras_preprocessing\\image\\image_data_generator.py:724: UserWarning: This ImageDataGenerator specifies `featurewise_std_normalization`, but it hasn't been fit on any training data. Fit it first by calling `.fit(numpy_data)`.\n",
      "  warnings.warn('This ImageDataGenerator specifies '\n"
     ]
    },
    {
     "name": "stdout",
     "output_type": "stream",
     "text": [
      "39/39 [==============================] - 12s 303ms/step - loss: 1.6962 - accuracy: 0.2504 - val_loss: 1.3856 - val_accuracy: 0.4135\n",
      "Epoch 2/50\n",
      "39/39 [==============================] - 10s 254ms/step - loss: 1.3492 - accuracy: 0.3617 - val_loss: 1.2063 - val_accuracy: 0.3413\n",
      "Epoch 3/50\n",
      "39/39 [==============================] - 10s 252ms/step - loss: 1.2501 - accuracy: 0.4288 - val_loss: 1.1109 - val_accuracy: 0.5625\n",
      "Epoch 4/50\n",
      "39/39 [==============================] - 10s 252ms/step - loss: 1.1581 - accuracy: 0.5155 - val_loss: 0.9975 - val_accuracy: 0.7067\n",
      "Epoch 5/50\n",
      "39/39 [==============================] - 10s 262ms/step - loss: 1.1455 - accuracy: 0.4943 - val_loss: 0.9619 - val_accuracy: 0.6587\n",
      "Epoch 6/50\n",
      "39/39 [==============================] - 11s 275ms/step - loss: 1.0871 - accuracy: 0.5516 - val_loss: 0.9067 - val_accuracy: 0.7356\n",
      "Epoch 7/50\n",
      "39/39 [==============================] - 11s 274ms/step - loss: 1.0581 - accuracy: 0.5728 - val_loss: 0.8978 - val_accuracy: 0.7163\n",
      "Epoch 8/50\n",
      "39/39 [==============================] - 11s 275ms/step - loss: 1.0687 - accuracy: 0.5630 - val_loss: 0.8484 - val_accuracy: 0.7981\n",
      "Epoch 9/50\n",
      "39/39 [==============================] - 11s 275ms/step - loss: 1.0009 - accuracy: 0.6056 - val_loss: 0.8223 - val_accuracy: 0.7740\n",
      "Epoch 10/50\n",
      "39/39 [==============================] - 11s 274ms/step - loss: 0.9431 - accuracy: 0.6465 - val_loss: 0.7732 - val_accuracy: 0.7788\n",
      "Epoch 11/50\n",
      "39/39 [==============================] - 11s 277ms/step - loss: 0.9297 - accuracy: 0.6563 - val_loss: 0.7410 - val_accuracy: 0.7933\n",
      "Epoch 12/50\n",
      "39/39 [==============================] - 11s 277ms/step - loss: 0.9453 - accuracy: 0.6481 - val_loss: 0.8617 - val_accuracy: 0.5962\n",
      "Epoch 13/50\n",
      "39/39 [==============================] - 11s 282ms/step - loss: 0.9436 - accuracy: 0.6350 - val_loss: 0.7640 - val_accuracy: 0.7452\n",
      "Epoch 14/50\n",
      "39/39 [==============================] - 11s 287ms/step - loss: 0.8932 - accuracy: 0.6628 - val_loss: 0.7210 - val_accuracy: 0.7740\n",
      "Epoch 15/50\n",
      "39/39 [==============================] - 12s 300ms/step - loss: 0.8823 - accuracy: 0.6710 - val_loss: 0.6782 - val_accuracy: 0.8029\n",
      "Epoch 16/50\n",
      "39/39 [==============================] - 12s 305ms/step - loss: 0.8439 - accuracy: 0.7119 - val_loss: 0.7388 - val_accuracy: 0.7596\n",
      "Epoch 17/50\n",
      "39/39 [==============================] - 12s 313ms/step - loss: 0.8363 - accuracy: 0.6939 - val_loss: 0.6543 - val_accuracy: 0.8029\n",
      "Epoch 18/50\n",
      "39/39 [==============================] - 13s 327ms/step - loss: 0.8255 - accuracy: 0.6939 - val_loss: 0.6372 - val_accuracy: 0.8221\n",
      "Epoch 19/50\n",
      "39/39 [==============================] - 13s 330ms/step - loss: 0.8263 - accuracy: 0.6809 - val_loss: 0.6113 - val_accuracy: 0.8413\n",
      "Epoch 20/50\n",
      "39/39 [==============================] - 13s 339ms/step - loss: 0.7959 - accuracy: 0.7201 - val_loss: 0.7536 - val_accuracy: 0.6923\n",
      "Epoch 21/50\n",
      "39/39 [==============================] - 14s 349ms/step - loss: 0.7810 - accuracy: 0.6890 - val_loss: 0.6229 - val_accuracy: 0.8221\n",
      "Epoch 22/50\n",
      "39/39 [==============================] - 13s 344ms/step - loss: 0.7485 - accuracy: 0.7414 - val_loss: 0.5480 - val_accuracy: 0.8654\n",
      "Epoch 23/50\n",
      "39/39 [==============================] - 14s 372ms/step - loss: 0.7523 - accuracy: 0.7283 - val_loss: 0.6618 - val_accuracy: 0.7692\n",
      "Epoch 24/50\n",
      "39/39 [==============================] - 16s 406ms/step - loss: 0.7243 - accuracy: 0.7529 - val_loss: 0.5214 - val_accuracy: 0.8846\n",
      "Epoch 25/50\n",
      "39/39 [==============================] - 14s 371ms/step - loss: 0.7074 - accuracy: 0.7741 - val_loss: 0.5589 - val_accuracy: 0.8413\n",
      "Epoch 26/50\n",
      "39/39 [==============================] - 13s 321ms/step - loss: 0.7318 - accuracy: 0.7300 - val_loss: 0.5288 - val_accuracy: 0.8798\n",
      "Epoch 27/50\n",
      "39/39 [==============================] - 12s 308ms/step - loss: 0.7304 - accuracy: 0.7381 - val_loss: 0.5077 - val_accuracy: 0.8798\n",
      "Epoch 28/50\n",
      "39/39 [==============================] - 13s 325ms/step - loss: 0.7250 - accuracy: 0.7561 - val_loss: 0.5201 - val_accuracy: 0.8702\n",
      "Epoch 29/50\n",
      "39/39 [==============================] - 13s 336ms/step - loss: 0.6918 - accuracy: 0.7496 - val_loss: 0.5522 - val_accuracy: 0.8317\n",
      "Epoch 30/50\n",
      "39/39 [==============================] - 13s 326ms/step - loss: 0.6989 - accuracy: 0.7840 - val_loss: 0.4704 - val_accuracy: 0.8894\n",
      "Epoch 31/50\n",
      "39/39 [==============================] - 13s 326ms/step - loss: 0.6359 - accuracy: 0.7774 - val_loss: 0.5888 - val_accuracy: 0.8173\n",
      "Epoch 32/50\n",
      "39/39 [==============================] - 14s 352ms/step - loss: 0.6606 - accuracy: 0.7692 - val_loss: 0.4907 - val_accuracy: 0.8750\n",
      "Epoch 33/50\n",
      "39/39 [==============================] - 15s 393ms/step - loss: 0.7015 - accuracy: 0.7365 - val_loss: 0.5390 - val_accuracy: 0.8173\n",
      "Epoch 34/50\n",
      "39/39 [==============================] - 15s 396ms/step - loss: 0.6575 - accuracy: 0.7840 - val_loss: 0.4610 - val_accuracy: 0.8798\n",
      "Epoch 35/50\n",
      "39/39 [==============================] - 18s 464ms/step - loss: 0.6422 - accuracy: 0.7807 - val_loss: 0.5398 - val_accuracy: 0.8269\n",
      "Epoch 36/50\n",
      "39/39 [==============================] - 21s 527ms/step - loss: 0.6257 - accuracy: 0.7774 - val_loss: 0.5112 - val_accuracy: 0.8413\n",
      "Epoch 37/50\n",
      "39/39 [==============================] - 18s 467ms/step - loss: 0.6402 - accuracy: 0.7660 - val_loss: 0.4234 - val_accuracy: 0.8990\n",
      "Epoch 38/50\n",
      "39/39 [==============================] - 21s 532ms/step - loss: 0.6230 - accuracy: 0.7758 - val_loss: 0.4735 - val_accuracy: 0.8606\n",
      "Epoch 39/50\n",
      "39/39 [==============================] - 18s 463ms/step - loss: 0.6155 - accuracy: 0.7921 - val_loss: 0.4421 - val_accuracy: 0.8798\n",
      "Epoch 40/50\n",
      "39/39 [==============================] - 13s 341ms/step - loss: 0.5814 - accuracy: 0.7938 - val_loss: 0.4786 - val_accuracy: 0.8654\n",
      "Epoch 41/50\n",
      "39/39 [==============================] - 14s 352ms/step - loss: 0.6049 - accuracy: 0.7823 - val_loss: 0.4620 - val_accuracy: 0.8894\n",
      "Epoch 42/50\n",
      "39/39 [==============================] - 15s 393ms/step - loss: 0.6164 - accuracy: 0.7725 - val_loss: 0.4537 - val_accuracy: 0.8558\n",
      "Epoch 43/50\n",
      "39/39 [==============================] - 14s 371ms/step - loss: 0.5918 - accuracy: 0.7774 - val_loss: 0.4923 - val_accuracy: 0.8510\n",
      "Epoch 44/50\n",
      "39/39 [==============================] - 15s 385ms/step - loss: 0.6041 - accuracy: 0.7987 - val_loss: 0.4150 - val_accuracy: 0.8846\n",
      "Epoch 45/50\n",
      "39/39 [==============================] - 16s 409ms/step - loss: 0.5840 - accuracy: 0.8052 - val_loss: 0.4522 - val_accuracy: 0.8654\n",
      "Epoch 46/50\n",
      "39/39 [==============================] - 17s 444ms/step - loss: 0.5756 - accuracy: 0.8036 - val_loss: 0.4336 - val_accuracy: 0.8894\n",
      "Epoch 47/50\n",
      "39/39 [==============================] - 23s 592ms/step - loss: 0.5752 - accuracy: 0.8085 - val_loss: 0.4386 - val_accuracy: 0.8942\n",
      "Epoch 48/50\n",
      "39/39 [==============================] - 15s 386ms/step - loss: 0.5654 - accuracy: 0.8069 - val_loss: 0.4172 - val_accuracy: 0.8894\n",
      "Epoch 49/50\n",
      "39/39 [==============================] - 15s 377ms/step - loss: 0.5630 - accuracy: 0.7949 - val_loss: 0.4276 - val_accuracy: 0.8942\n",
      "Epoch 50/50\n",
      "39/39 [==============================] - 14s 369ms/step - loss: 0.5539 - accuracy: 0.8167 - val_loss: 0.4138 - val_accuracy: 0.9038\n"
     ]
    }
   ],
   "source": [
    "with tf.device('/GPU:0'):\n",
    "    results = model.fit_generator(\n",
    "        train_images,\n",
    "        steps_per_epoch=train_samples // batch_size,\n",
    "        validation_data=val_images,\n",
    "        validation_steps=validation_samples // batch_size,\n",
    "        epochs=50)"
   ]
  },
  {
   "cell_type": "code",
   "execution_count": 11,
   "metadata": {},
   "outputs": [],
   "source": [
    "#model = load_model(\"./modele/FT_vgg16_1.h5\")"
   ]
  },
  {
   "cell_type": "code",
   "execution_count": 50,
   "metadata": {},
   "outputs": [],
   "source": [
    "losses = pd.DataFrame(model.history.history)"
   ]
  },
  {
   "cell_type": "code",
   "execution_count": 51,
   "metadata": {},
   "outputs": [
    {
     "data": {
      "text/plain": [
       "<matplotlib.axes._subplots.AxesSubplot at 0x24b03621f08>"
      ]
     },
     "execution_count": 51,
     "metadata": {},
     "output_type": "execute_result"
    },
    {
     "data": {
      "image/png": "[encoded data removed]",
      "text/plain": [
       "<Figure size 432x288 with 1 Axes>"
      ]
     },
     "metadata": {
      "needs_background": "light"
     },
     "output_type": "display_data"
    }
   ],
   "source": [
    "losses[['loss','val_loss']].plot()"
   ]
  },
  {
   "cell_type": "code",
   "execution_count": 52,
   "metadata": {},
   "outputs": [
    {
     "data": {
      "text/plain": [
       "<matplotlib.axes._subplots.AxesSubplot at 0x24b036acbc8>"
      ]
     },
     "execution_count": 52,
     "metadata": {},
     "output_type": "execute_result"
    },
    {
     "data": {
      "image/png": "[encoded data removed]",
      "text/plain": [
       "<Figure size 432x288 with 1 Axes>"
      ]
     },
     "metadata": {
      "needs_background": "light"
     },
     "output_type": "display_data"
    }
   ],
   "source": [
    "losses[['accuracy','val_accuracy']].plot()"
   ]
  },
  {
   "cell_type": "code",
   "execution_count": 18,
   "metadata": {},
   "outputs": [],
   "source": [
    "from sklearn.metrics import classification_report,confusion_matrix"
   ]
  },
  {
   "cell_type": "code",
   "execution_count": 53,
   "metadata": {},
   "outputs": [
    {
     "name": "stdout",
     "output_type": "stream",
     "text": [
      "WARNING:tensorflow:sample_weight modes were coerced from\n",
      "  ...\n",
      "    to  \n",
      "  ['...']\n"
     ]
    },
    {
     "data": {
      "text/plain": [
       "[0.38589695415326525, 0.9047619]"
      ]
     },
     "execution_count": 53,
     "metadata": {},
     "output_type": "execute_result"
    }
   ],
   "source": [
    "model.evaluate_generator(val_images)"
   ]
  },
  {
   "cell_type": "code",
   "execution_count": 20,
   "metadata": {},
   "outputs": [],
   "source": [
    "def getPredictionsIndices(val_images):\n",
    "    pred= model.predict_generator(val_images)\n",
    "    predicted_class_indices=np.argmax(pred,axis=1)\n",
    "    return predicted_class_indices"
   ]
  },
  {
   "cell_type": "code",
   "execution_count": 54,
   "metadata": {},
   "outputs": [],
   "source": [
    "predicted_class_indices = getPredictionsIndices(val_images)"
   ]
  },
  {
   "cell_type": "code",
   "execution_count": 24,
   "metadata": {},
   "outputs": [],
   "source": [
    "def getLabelsIndicesDicts(val_images):\n",
    "    labelsToIndices = (val_images.class_indices)\n",
    "    IndicesToLabels = dict((v,k) for k,v in labelsToIndices.items())\n",
    "    return labelsToIndices, IndicesToLabels"
   ]
  },
  {
   "cell_type": "code",
   "execution_count": 31,
   "metadata": {},
   "outputs": [
    {
     "data": {
      "text/plain": [
       "{'Asfalt': 0, 'Kostka': 1, 'Polna_v': 2, 'Utwardzona': 3}"
      ]
     },
     "execution_count": 31,
     "metadata": {},
     "output_type": "execute_result"
    }
   ],
   "source": [
    "labels, labels2 = getLabelsIndicesDicts(val_images)\n",
    "labels"
   ]
  },
  {
   "cell_type": "code",
   "execution_count": 55,
   "metadata": {},
   "outputs": [
    {
     "name": "stdout",
     "output_type": "stream",
     "text": [
      "              precision    recall  f1-score   support\n",
      "\n",
      "           0       1.00      0.74      0.85        53\n",
      "           1       0.85      0.90      0.88        51\n",
      "           2       0.82      1.00      0.90        50\n",
      "           3       0.98      0.98      0.98        56\n",
      "\n",
      "    accuracy                           0.90       210\n",
      "   macro avg       0.91      0.90      0.90       210\n",
      "weighted avg       0.92      0.90      0.90       210\n",
      "\n"
     ]
    }
   ],
   "source": [
    "print(classification_report(val_images.classes,predicted_class_indices))"
   ]
  },
  {
   "cell_type": "code",
   "execution_count": 57,
   "metadata": {},
   "outputs": [
    {
     "data": {
      "text/plain": [
       "array([[39,  7,  6,  1],\n",
       "       [ 0, 46,  5,  0],\n",
       "       [ 0,  0, 50,  0],\n",
       "       [ 0,  1,  0, 55]], dtype=int64)"
      ]
     },
     "execution_count": 57,
     "metadata": {},
     "output_type": "execute_result"
    }
   ],
   "source": [
    "confusion_matrix(val_images.classes, predicted_class_indices)"
   ]
  },
  {
   "cell_type": "code",
   "execution_count": 58,
   "metadata": {},
   "outputs": [
    {
     "data": {
      "text/plain": [
       "<matplotlib.axes._subplots.AxesSubplot at 0x24b05b75ec8>"
      ]
     },
     "execution_count": 58,
     "metadata": {},
     "output_type": "execute_result"
    },
    {
     "data": {
      "image/png": "[encoded data removed]",
      "text/plain": [
       "<Figure size 720x432 with 2 Axes>"
      ]
     },
     "metadata": {
      "needs_background": "light"
     },
     "output_type": "display_data"
    }
   ],
   "source": [
    "import seaborn as sns\n",
    "plt.figure(figsize=(10,6))\n",
    "sns.heatmap(confusion_matrix(val_images.classes,predicted_class_indices),annot=True)\n",
    "#y - true \n",
    "#x - predicted"
   ]
  },
  {
   "cell_type": "code",
   "execution_count": null,
   "metadata": {},
   "outputs": [],
   "source": []
  },
  {
   "cell_type": "code",
   "execution_count": null,
   "metadata": {},
   "outputs": [],
   "source": []
  },
  {
   "cell_type": "code",
   "execution_count": 59,
   "metadata": {},
   "outputs": [],
   "source": [
    "model.save(\"FT_vgg16_1.h5\")"
   ]
  },
  {
   "cell_type": "code",
   "execution_count": null,
   "metadata": {},
   "outputs": [],
   "source": []
  }
 ],
 "metadata": {
  "kernelspec": {
   "display_name": "Python 3",
   "language": "python",
   "name": "python3"
  },
  "language_info": {
   "codemirror_mode": {
    "name": "ipython",
    "version": 3
   },
   "file_extension": ".py",
   "mimetype": "text/x-python",
   "name": "python",
   "nbconvert_exporter": "python",
   "pygments_lexer": "ipython3",
   "version": "3.7.7"
  }
 },
 "nbformat": 4,
 "nbformat_minor": 4
}
