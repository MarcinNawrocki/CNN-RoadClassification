{
 "cells": [
  {
   "cell_type": "code",
   "execution_count": 2,
   "metadata": {},
   "outputs": [],
   "source": [
    "import os\n",
    "import numpy as np\n",
    "from PIL import Image"
   ]
  },
  {
   "cell_type": "code",
   "execution_count": 78,
   "metadata": {},
   "outputs": [],
   "source": [
    "core = \"bazy\"\n",
    "new = \"baza_200_RGB\"\n",
    "\n",
    "class1 = \"Asfalt\"\n",
    "class2 = \"kostka\"\n",
    "class3 = \"utwardzona\"\n",
    "class4 = \"Polna\""
   ]
  },
  {
   "cell_type": "code",
   "execution_count": 9,
   "metadata": {},
   "outputs": [
    {
     "ename": "ValueError",
     "evalue": "too many values to unpack (expected 2)",
     "output_type": "error",
     "traceback": [
      "\u001b[1;31m---------------------------------------------------------------------------\u001b[0m",
      "\u001b[1;31mValueError\u001b[0m                                Traceback (most recent call last)",
      "\u001b[1;32m<ipython-input-9-9dd863025794>\u001b[0m in \u001b[0;36m<module>\u001b[1;34m\u001b[0m\n\u001b[1;32m----> 1\u001b[1;33m \u001b[0mroot\u001b[0m\u001b[1;33m,\u001b[0m \u001b[0mdirs\u001b[0m \u001b[1;33m=\u001b[0m \u001b[0mos\u001b[0m\u001b[1;33m.\u001b[0m\u001b[0mwalk\u001b[0m\u001b[1;33m(\u001b[0m\u001b[0mpath\u001b[0m\u001b[1;33m)\u001b[0m\u001b[1;33m\u001b[0m\u001b[1;33m\u001b[0m\u001b[0m\n\u001b[0m",
      "\u001b[1;31mValueError\u001b[0m: too many values to unpack (expected 2)"
     ]
    }
   ],
   "source": [
    "w = os.walk(path)"
   ]
  },
  {
   "cell_type": "code",
   "execution_count": 79,
   "metadata": {},
   "outputs": [],
   "source": [
    "#making directories\n",
    "\n",
    "os.makedirs(os.path.join(new,'train',class1)\n",
    "os.makedirs(os.path.join(new,'train',class2)\n",
    "os.makedirs(os.path.join(new,'train',class3)\n",
    "os.makedirs(os.path.join(new,'train',class4)\n",
    "\n",
    "os.makedirs(os.path.join(new,'val',class1)\n",
    "os.makedirs(os.path.join(new,'val',class2)\n",
    "os.makedirs(os.path.join(new,'val',class3)\n",
    "os.makedirs(os.path.join(new,'val',class4)"
   ]
  },
  {
   "cell_type": "code",
   "execution_count": 76,
   "metadata": {},
   "outputs": [],
   "source": [
    "def getNewPath(path_file):\n",
    "    bs = '\\\\' #double because bs is in the end\n",
    "    index = path_file.find(bs)\n",
    "    new_path_file = new + path_file[index:]\n",
    "    return new_path_file"
   ]
  },
  {
   "cell_type": "code",
   "execution_count": 80,
   "metadata": {},
   "outputs": [],
   "source": [
    "for root, dirs, files in os.walk(core):\n",
    "    for file in files:\n",
    "        path_file = os.path.join(root,file)\n",
    "        #shutil.copy2(path_file,'destination_directory')\n",
    "        image = Image.open(path_file)\n",
    "        new_image = image.resize((200,200))\n",
    "        new_path_file = getNewPath(path_file)\n",
    "        new_image.save(new_path_file)"
   ]
  },
  {
   "cell_type": "code",
   "execution_count": null,
   "metadata": {},
   "outputs": [],
   "source": []
  }
 ],
 "metadata": {
  "kernelspec": {
   "display_name": "Python 3",
   "language": "python",
   "name": "python3"
  },
  "language_info": {
   "codemirror_mode": {
    "name": "ipython",
    "version": 3
   },
   "file_extension": ".py",
   "mimetype": "text/x-python",
   "name": "python",
   "nbconvert_exporter": "python",
   "pygments_lexer": "ipython3",
   "version": "3.7.7"
  }
 },
 "nbformat": 4,
 "nbformat_minor": 2
}
