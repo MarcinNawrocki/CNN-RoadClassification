{
 "cells": [
  {
   "cell_type": "code",
   "execution_count": 1,
   "metadata": {},
   "outputs": [],
   "source": [
    "import os\n",
    "import shutil\n",
    "\n",
    "import numpy as np\n",
    "import matplotlib.pyplot as plt\n",
    "from PIL import Image\n"
   ]
  },
  {
   "cell_type": "code",
   "execution_count": 2,
   "metadata": {},
   "outputs": [],
   "source": [
    "#https://stackoverflow.com/questions/53074712/how-to-split-folder-of-images-into-test-training-validation-sets-with-stratified\n",
    "#train 60%\n",
    "#validation 20%\n",
    "#test 20%\n",
    "#250 images for category, but we start splitting from 200 into train and validation so ratio is (75%/25%)\n",
    "path = \"./asfalt/0.0\""
   ]
  },
  {
   "cell_type": "code",
   "execution_count": 3,
   "metadata": {},
   "outputs": [],
   "source": [
    "core_path = \"./baza\"\n",
    "class1 = \"/Asfalt/\"\n",
    "class2 = \"/Kostka/\"\n",
    "class3 = \"/Utwardzona/\"\n",
    "class4 = \"/Polna/\""
   ]
  },
  {
   "cell_type": "code",
   "execution_count": 4,
   "metadata": {},
   "outputs": [
    {
     "ename": "FileNotFoundError",
     "evalue": "[WinError 3] System nie może odnaleźć określonej ścieżki: './baza/Asfalt/'",
     "output_type": "error",
     "traceback": [
      "\u001b[1;31m---------------------------------------------------------------------------\u001b[0m",
      "\u001b[1;31mFileNotFoundError\u001b[0m                         Traceback (most recent call last)",
      "\u001b[1;32m<ipython-input-4-c8f452283123>\u001b[0m in \u001b[0;36m<module>\u001b[1;34m\u001b[0m\n\u001b[1;32m----> 1\u001b[1;33m \u001b[0mfile_names\u001b[0m \u001b[1;33m=\u001b[0m \u001b[0mos\u001b[0m\u001b[1;33m.\u001b[0m\u001b[0mlistdir\u001b[0m\u001b[1;33m(\u001b[0m\u001b[0mcore_path\u001b[0m\u001b[1;33m+\u001b[0m\u001b[0mclass1\u001b[0m\u001b[1;33m)\u001b[0m\u001b[1;33m\u001b[0m\u001b[1;33m\u001b[0m\u001b[0m\n\u001b[0m\u001b[0;32m      2\u001b[0m \u001b[0mfile_names\u001b[0m\u001b[1;33m\u001b[0m\u001b[1;33m\u001b[0m\u001b[0m\n",
      "\u001b[1;31mFileNotFoundError\u001b[0m: [WinError 3] System nie może odnaleźć określonej ścieżki: './baza/Asfalt/'"
     ]
    }
   ],
   "source": [
    "file_names = os.listdir(core_path+class1)\n",
    "file_names"
   ]
  },
  {
   "cell_type": "code",
   "execution_count": 5,
   "metadata": {},
   "outputs": [],
   "source": [
    "os.makedirs(os.path.join(core_path,'train',class1)\n",
    "os.makedirs(os.path.join(core_path,'train',class2))\n",
    "os.makedirs(os.path.join(core_path,'train',class3))\n",
    "os.makedirs(os.path.join(core_path,'train',class4))\n",
    "\n",
    "os.makedirs(os.path.join(core_path,'val',class1))\n",
    "os.makedirs(os.path.join(core_path,'val',class2))\n",
    "os.makedirs(os.path.join(core_path,'val',class3))\n",
    "os.makedirs(os.path.join(core_path,'val',class4))\n"
   ]
  },
  {
   "cell_type": "code",
   "execution_count": 14,
   "metadata": {},
   "outputs": [
    {
     "data": {
      "text/plain": [
       "'./baza/Utwardzona/'"
      ]
     },
     "execution_count": 14,
     "metadata": {},
     "output_type": "execute_result"
    }
   ],
   "source": [
    "#choose class to make train/test split\n",
    "current_class = class3\n",
    "src = os.path.join(core_path, current_class)\n",
    "src"
   ]
  },
  {
   "cell_type": "code",
   "execution_count": 18,
   "metadata": {},
   "outputs": [],
   "source": [
    "file_names_all = os.listdir(src)\n",
    "np.random.shuffle(file_names_all)\n",
    "file_names_train, file_names_val = np.split(np.array(file_names_all),\n",
    "                                                          [int(len(file_names_all)*0.75)])"
   ]
  },
  {
   "cell_type": "code",
   "execution_count": 19,
   "metadata": {},
   "outputs": [
    {
     "name": "stdout",
     "output_type": "stream",
     "text": [
      "Total images:  223\n",
      "Training:  167\n",
      "Validation:  56\n"
     ]
    }
   ],
   "source": [
    "print('Total images: ', len(file_names_all))\n",
    "print('Training: ', len(file_names_train))\n",
    "print('Validation: ', len(file_names_val))\n"
   ]
  },
  {
   "cell_type": "code",
   "execution_count": 20,
   "metadata": {},
   "outputs": [],
   "source": [
    "#copy\n",
    "for name in file_names_train:\n",
    "    shutil.copy(src+\"/\"+name, core_path+\"/train\"+current_class)\n",
    "\n",
    "for name in file_names_val:\n",
    "    shutil.copy(src+\"/\"+name, core_path+\"/val\"+current_class)"
   ]
  },
  {
   "cell_type": "code",
   "execution_count": null,
   "metadata": {},
   "outputs": [],
   "source": []
  }
 ],
 "metadata": {
  "kernelspec": {
   "display_name": "Python 3",
   "language": "python",
   "name": "python3"
  },
  "language_info": {
   "codemirror_mode": {
    "name": "ipython",
    "version": 3
   },
   "file_extension": ".py",
   "mimetype": "text/x-python",
   "name": "python",
   "nbconvert_exporter": "python",
   "pygments_lexer": "ipython3",
   "version": "3.7.7"
  }
 },
 "nbformat": 4,
 "nbformat_minor": 4
}
